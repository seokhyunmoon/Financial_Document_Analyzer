{
 "cells": [
  {
   "cell_type": "code",
   "execution_count": 97,
   "id": "8f4b73a6",
   "metadata": {},
   "outputs": [],
   "source": [
    "import pandas as pd\n",
    "\n",
    "data = pd.read_json(\"/Users/munseoghyeon/Desktop/Project/Financial_Document_Analyzer/data/financebench_open_source.jsonl\", lines=True)\n",
    "info = pd.read_json(\"/Users/munseoghyeon/Desktop/Project/Financial_Document_Analyzer/data/financebench_document_information.jsonl\", lines=True)\n"
   ]
  },
  {
   "cell_type": "markdown",
   "id": "a4e05b6e",
   "metadata": {},
   "source": [
    "# Data"
   ]
  },
  {
   "cell_type": "code",
   "execution_count": 99,
   "id": "5b2b1f2e",
   "metadata": {},
   "outputs": [
    {
     "data": {
      "text/plain": [
       "Index(['financebench_id', 'company', 'doc_name', 'question_type',\n",
       "       'question_reasoning', 'domain_question_num', 'question', 'answer',\n",
       "       'justification', 'dataset_subset_label', 'evidence'],\n",
       "      dtype='object')"
      ]
     },
     "execution_count": 99,
     "metadata": {},
     "output_type": "execute_result"
    }
   ],
   "source": [
    "data.keys()\n"
   ]
  },
  {
   "cell_type": "code",
   "execution_count": 100,
   "id": "dd6ec6f3",
   "metadata": {},
   "outputs": [],
   "source": [
    "company = data.get(\"company\")\n",
    "doc_name = data.get(\"doc_name\")\n",
    "question_type = data.get(\"question_type\")\n",
    "question_reasoning = data.get(\"question_reasoning\")\n",
    "domain_question_num = data.get(\"domain_question_num\")\n",
    "question = data.get(\"question\")\n",
    "answer = data.get(\"answer\")\n",
    "justification = data.get(\"justification\")\n",
    "dataset_subset_label = data.get(\"dataset_subset_label\") # All Open Source\n",
    "evidence = data.get(\"evidence\")\n"
   ]
  },
  {
   "cell_type": "markdown",
   "id": "2e4f406d",
   "metadata": {},
   "source": [
    "## Company"
   ]
  },
  {
   "cell_type": "code",
   "execution_count": 101,
   "id": "1cc01925",
   "metadata": {},
   "outputs": [
    {
     "name": "stdout",
     "output_type": "stream",
     "text": [
      "32\n"
     ]
    },
    {
     "data": {
      "text/plain": [
       "{'3M',\n",
       " 'AES Corporation',\n",
       " 'AMD',\n",
       " 'Activision Blizzard',\n",
       " 'Adobe',\n",
       " 'Amazon',\n",
       " 'Amcor',\n",
       " 'American Express',\n",
       " 'American Water Works',\n",
       " 'Best Buy',\n",
       " 'Block',\n",
       " 'Boeing',\n",
       " 'CVS Health',\n",
       " 'Coca-Cola',\n",
       " 'Corning',\n",
       " 'Costco',\n",
       " 'Foot Locker',\n",
       " 'General Mills',\n",
       " 'JPMorgan',\n",
       " 'Johnson & Johnson',\n",
       " 'Kraft Heinz',\n",
       " 'Lockheed Martin',\n",
       " 'MGM Resorts',\n",
       " 'Microsoft',\n",
       " 'Netflix',\n",
       " 'Nike',\n",
       " 'Paypal',\n",
       " 'PepsiCo',\n",
       " 'Pfizer',\n",
       " 'Ulta Beauty',\n",
       " 'Verizon',\n",
       " 'Walmart'}"
      ]
     },
     "execution_count": 101,
     "metadata": {},
     "output_type": "execute_result"
    }
   ],
   "source": [
    "company = list(company)\n",
    "company = set(company)\n",
    "print(len(company))\n",
    "company"
   ]
  },
  {
   "cell_type": "markdown",
   "id": "38914a46",
   "metadata": {},
   "source": [
    "## Doc Names"
   ]
  },
  {
   "cell_type": "code",
   "execution_count": 94,
   "id": "c0aa88ac",
   "metadata": {},
   "outputs": [
    {
     "name": "stdout",
     "output_type": "stream",
     "text": [
      "84\n"
     ]
    },
    {
     "data": {
      "text/plain": [
       "{'3M_2018_10K',\n",
       " '3M_2022_10K',\n",
       " '3M_2023Q2_10Q',\n",
       " 'ACTIVISIONBLIZZARD_2019_10K',\n",
       " 'ADOBE_2015_10K',\n",
       " 'ADOBE_2016_10K',\n",
       " 'ADOBE_2017_10K',\n",
       " 'ADOBE_2022_10K',\n",
       " 'AES_2022_10K',\n",
       " 'AMAZON_2017_10K',\n",
       " 'AMAZON_2019_10K',\n",
       " 'AMCOR_2020_10K',\n",
       " 'AMCOR_2022_8K_dated-2022-07-01',\n",
       " 'AMCOR_2023Q2_10Q',\n",
       " 'AMCOR_2023Q4_EARNINGS',\n",
       " 'AMCOR_2023_10K',\n",
       " 'AMD_2015_10K',\n",
       " 'AMD_2022_10K',\n",
       " 'AMERICANEXPRESS_2022_10K',\n",
       " 'AMERICANWATERWORKS_2020_10K',\n",
       " 'AMERICANWATERWORKS_2021_10K',\n",
       " 'AMERICANWATERWORKS_2022_10K',\n",
       " 'BESTBUY_2017_10K',\n",
       " 'BESTBUY_2019_10K',\n",
       " 'BESTBUY_2023_10K',\n",
       " 'BESTBUY_2024Q2_10Q',\n",
       " 'BLOCK_2016_10K',\n",
       " 'BLOCK_2020_10K',\n",
       " 'BOEING_2018_10K',\n",
       " 'BOEING_2022_10K',\n",
       " 'COCACOLA_2017_10K',\n",
       " 'COCACOLA_2021_10K',\n",
       " 'COCACOLA_2022_10K',\n",
       " 'CORNING_2020_10K',\n",
       " 'CORNING_2021_10K',\n",
       " 'CORNING_2022_10K',\n",
       " 'COSTCO_2021_10K',\n",
       " 'CVSHEALTH_2018_10K',\n",
       " 'CVSHEALTH_2022_10K',\n",
       " 'FOOTLOCKER_2022_8K_dated-2022-05-20',\n",
       " 'FOOTLOCKER_2022_8K_dated_2022-08-19',\n",
       " 'GENERALMILLS_2019_10K',\n",
       " 'GENERALMILLS_2020_10K',\n",
       " 'GENERALMILLS_2022_10K',\n",
       " 'JOHNSON_JOHNSON_2022Q4_EARNINGS',\n",
       " 'JOHNSON_JOHNSON_2022_10K',\n",
       " 'JOHNSON_JOHNSON_2023Q2_EARNINGS',\n",
       " 'JOHNSON_JOHNSON_2023_8K_dated-2023-08-30',\n",
       " 'JPMORGAN_2021Q1_10Q',\n",
       " 'JPMORGAN_2022Q2_10Q',\n",
       " 'JPMORGAN_2022_10K',\n",
       " 'JPMORGAN_2023Q2_10Q',\n",
       " 'KRAFTHEINZ_2019_10K',\n",
       " 'LOCKHEEDMARTIN_2020_10K',\n",
       " 'LOCKHEEDMARTIN_2021_10K',\n",
       " 'LOCKHEEDMARTIN_2022_10K',\n",
       " 'MGMRESORTS_2018_10K',\n",
       " 'MGMRESORTS_2020_10K',\n",
       " 'MGMRESORTS_2022Q4_EARNINGS',\n",
       " 'MGMRESORTS_2022_10K',\n",
       " 'MGMRESORTS_2023Q2_10Q',\n",
       " 'MICROSOFT_2016_10K',\n",
       " 'MICROSOFT_2023_10K',\n",
       " 'NETFLIX_2015_10K',\n",
       " 'NETFLIX_2017_10K',\n",
       " 'NIKE_2018_10K',\n",
       " 'NIKE_2019_10K',\n",
       " 'NIKE_2021_10K',\n",
       " 'NIKE_2023_10K',\n",
       " 'PAYPAL_2022_10K',\n",
       " 'PEPSICO_2021_10K',\n",
       " 'PEPSICO_2022_10K',\n",
       " 'PEPSICO_2023Q1_EARNINGS',\n",
       " 'PEPSICO_2023_8K_dated-2023-05-05',\n",
       " 'PEPSICO_2023_8K_dated-2023-05-30',\n",
       " 'PFIZER_2021_10K',\n",
       " 'Pfizer_2023Q2_10Q',\n",
       " 'ULTABEAUTY_2023Q4_EARNINGS',\n",
       " 'ULTABEAUTY_2023_10K',\n",
       " 'VERIZON_2021_10K',\n",
       " 'VERIZON_2022_10K',\n",
       " 'WALMART_2018_10K',\n",
       " 'WALMART_2019_10K',\n",
       " 'WALMART_2020_10K'}"
      ]
     },
     "execution_count": 94,
     "metadata": {},
     "output_type": "execute_result"
    }
   ],
   "source": [
    "doc_name = list(doc_name)\n",
    "doc_name = set(doc_name)\n",
    "print(len(doc_name))\n",
    "doc_name"
   ]
  },
  {
   "cell_type": "markdown",
   "id": "87d3a9cb",
   "metadata": {},
   "source": [
    "## Question Type"
   ]
  },
  {
   "cell_type": "code",
   "execution_count": 95,
   "id": "9d87b73a",
   "metadata": {},
   "outputs": [
    {
     "name": "stdout",
     "output_type": "stream",
     "text": [
      "metrics_generated:50 | domain_relevant:50 | novel_generated:50\n"
     ]
    }
   ],
   "source": [
    "question_type = list(question_type)\n",
    "\n",
    "metrics_generated = question_type.count('metrics-generated')\n",
    "domain_relevant = question_type.count('domain-relevant')\n",
    "novel_generated = question_type.count('novel-generated')\n",
    "\n",
    "\n",
    "print(f\"metrics_generated:{metrics_generated} | domain_relevant:{domain_relevant} | novel_generated:{novel_generated}\")"
   ]
  },
  {
   "cell_type": "markdown",
   "id": "939739cc",
   "metadata": {},
   "source": [
    "## Question Reasoning"
   ]
  },
  {
   "cell_type": "code",
   "execution_count": 106,
   "id": "e3c399e3",
   "metadata": {},
   "outputs": [
    {
     "name": "stdout",
     "output_type": "stream",
     "text": [
      "10\n"
     ]
    },
    {
     "data": {
      "text/plain": [
       "{'Information extraction',\n",
       " 'Information extraction OR Logical reasoning',\n",
       " 'Information extraction OR Logical reasoning OR',\n",
       " 'Logical reasoning (based on numerical reasoning)',\n",
       " 'Logical reasoning (based on numerical reasoning) OR Logical reasoning',\n",
       " 'Logical reasoning (based on numerical reasoning) OR Numerical reasoning OR Logical reasoning',\n",
       " None,\n",
       " 'Numerical reasoning',\n",
       " 'Numerical reasoning OR Logical reasoning',\n",
       " 'Numerical reasoning OR information extraction'}"
      ]
     },
     "execution_count": 106,
     "metadata": {},
     "output_type": "execute_result"
    }
   ],
   "source": [
    "question_reasoning = list(question_reasoning)\n",
    "question_reasoning = set(question_reasoning)\n",
    "print(len(question_reasoning))\n",
    "question_reasoning"
   ]
  },
  {
   "cell_type": "markdown",
   "id": "4ecfcc96",
   "metadata": {},
   "source": [
    "## Question"
   ]
  },
  {
   "cell_type": "code",
   "execution_count": 105,
   "id": "4286b4b9",
   "metadata": {},
   "outputs": [
    {
     "data": {
      "text/plain": [
       "'What is the FY2018 capital expenditure amount (in USD millions) for 3M? Give a response to the question by relying on the details shown in the cash flow statement.'"
      ]
     },
     "execution_count": 105,
     "metadata": {},
     "output_type": "execute_result"
    }
   ],
   "source": [
    "question[0]"
   ]
  },
  {
   "cell_type": "markdown",
   "id": "74b8ab48",
   "metadata": {},
   "source": [
    "## Answer"
   ]
  },
  {
   "cell_type": "code",
   "execution_count": 104,
   "id": "34fdc6cb",
   "metadata": {},
   "outputs": [
    {
     "data": {
      "text/plain": [
       "'$1577.00'"
      ]
     },
     "execution_count": 104,
     "metadata": {},
     "output_type": "execute_result"
    }
   ],
   "source": [
    "answer[0]"
   ]
  },
  {
   "cell_type": "markdown",
   "id": "9034e16f",
   "metadata": {},
   "source": [
    "## Justification\n",
    "-  explains how annotators calculated a specific number or reached a conclusion."
   ]
  },
  {
   "cell_type": "code",
   "execution_count": 108,
   "id": "b11fda2a",
   "metadata": {},
   "outputs": [
    {
     "data": {
      "text/plain": [
       "'The metric capital expenditures was directly extracted from the company 10K. The line item name, as seen in the 10K, was: Purchases of property, plant and equipment (PP&E).'"
      ]
     },
     "execution_count": 108,
     "metadata": {},
     "output_type": "execute_result"
    }
   ],
   "source": [
    "justification[0]"
   ]
  },
  {
   "cell_type": "markdown",
   "id": "f9262ce9",
   "metadata": {},
   "source": [
    "## Evidence"
   ]
  },
  {
   "cell_type": "code",
   "execution_count": 102,
   "id": "36143a66",
   "metadata": {},
   "outputs": [
    {
     "data": {
      "text/plain": [
       "[{'evidence_text': 'Table of Contents \\n3M Company and Subsidiaries\\nConsolidated Statement of Cash Flow s\\nYears ended December 31\\n \\n(Millions)\\n \\n2018\\n \\n2017\\n \\n2016\\n \\nCash Flows from Operating Activities\\n \\n \\n \\n \\n \\n \\n \\nNet income including noncontrolling interest\\n \\n$\\n5,363 \\n$\\n4,869 \\n$\\n5,058 \\nAdjustments to reconcile net income including noncontrolling interest to net cash\\nprovided by operating activities\\n \\n \\n \\n \\n \\n \\n \\nDepreciation and amortization\\n \\n \\n1,488 \\n \\n1,544 \\n \\n1,474 \\nCompany pension and postretirement contributions\\n \\n \\n(370) \\n \\n(967) \\n \\n(383) \\nCompany pension and postretirement expense\\n \\n \\n410 \\n \\n334 \\n \\n250 \\nStock-based compensation expense\\n \\n \\n302 \\n \\n324 \\n \\n298 \\nGain on sale of businesses\\n \\n \\n(545) \\n \\n(586) \\n \\n(111) \\nDeferred income taxes\\n \\n \\n(57) \\n \\n107 \\n \\n 7 \\nChanges in assets and liabilities\\n \\n \\n \\n \\n \\n \\n \\nAccounts receivable\\n \\n \\n(305) \\n \\n(245) \\n \\n(313) \\nInventories\\n \\n \\n(509) \\n \\n(387) \\n \\n57 \\nAccounts payable\\n \\n \\n408 \\n \\n24 \\n \\n148 \\nAccrued income taxes (current and long-term)\\n \\n \\n134 \\n \\n967 \\n \\n101 \\nOther net\\n \\n \\n120 \\n \\n256 \\n \\n76 \\nNet cash provided by (used in) operating activities\\n \\n \\n6,439 \\n \\n6,240 \\n \\n6,662 \\n \\n \\n \\n \\n \\n \\n \\n \\nCash Flows from Investing Activities\\n \\n \\n \\n \\n \\n \\n \\nPurchases of property, plant and equipment (PP&E)\\n \\n \\n(1,577) \\n \\n(1,373) \\n \\n(1,420) \\nProceeds from sale of PP&E and other assets\\n \\n \\n262 \\n \\n49 \\n \\n58 \\nAcquisitions, net of cash acquired\\n \\n \\n13 \\n \\n(2,023) \\n \\n(16) \\nPurchases of marketable securities and investments\\n \\n \\n(1,828) \\n \\n(2,152) \\n \\n(1,410) \\nProceeds from maturities and sale of marketable securities and investments\\n \\n \\n2,497 \\n \\n1,354 \\n \\n1,247 \\nProceeds from sale of businesses, net of cash sold\\n \\n \\n846 \\n \\n1,065 \\n \\n142 \\nOther net\\n \\n \\n 9 \\n \\n(6) \\n \\n(4) \\nNet cash provided by (used in) investing activities\\n \\n \\n222 \\n \\n(3,086) \\n \\n(1,403) \\n \\n \\n \\n \\n \\n \\n \\n \\nCash Flows from Financing Activities\\n \\n \\n \\n \\n \\n \\n \\nChange in short-term debt net\\n \\n \\n(284) \\n \\n578 \\n \\n(797) \\nRepayment of debt (maturities greater than 90 days)\\n \\n \\n(1,034) \\n \\n(962) \\n \\n(992) \\nProceeds from debt (maturities greater than 90 days)\\n \\n \\n2,251 \\n \\n1,987 \\n \\n2,832 \\nPurchases of treasury stock\\n \\n \\n(4,870) \\n \\n(2,068) \\n \\n(3,753) \\nProceeds from issuance of treasury stock pursuant to stock option and benefit plans\\n \\n \\n485 \\n \\n734 \\n \\n804 \\nDividends paid to shareholders\\n \\n \\n(3,193) \\n \\n(2,803) \\n \\n(2,678) \\nOther net\\n \\n \\n(56) \\n \\n(121) \\n \\n(42) \\nNet cash provided by (used in) financing activities\\n \\n \\n(6,701) \\n \\n(2,655) \\n \\n(4,626) \\n \\n \\n \\n \\n \\n \\n \\n \\nEffect of exchange rate changes on cash and cash equivalents\\n \\n \\n(160) \\n \\n156 \\n \\n(33) \\n \\n \\n \\n \\n \\n \\n \\n \\nNet increase (decrease) in cash and cash equivalents\\n \\n \\n(200) \\n \\n655 \\n \\n600 \\nCash and cash equivalents at beginning of year\\n \\n \\n3,053 \\n \\n2,398 \\n \\n1,798 \\nCash and cash equivalents at end of period\\n \\n$\\n2,853 \\n$\\n3,053 \\n$\\n2,398 \\n \\nThe accompanying Notes to Consolidated Financial Statements are an integral part of this statement.\\n \\n60',\n",
       "  'doc_name': '3M_2018_10K',\n",
       "  'evidence_page_num': 59,\n",
       "  'evidence_text_full_page': 'Table of Contents \\n3M Company and Subsidiaries\\nConsolidated Statement of Cash Flow s\\nYears ended December 31\\n \\n(Millions)\\n \\n2018\\n \\n2017\\n \\n2016\\n \\nCash Flows from Operating Activities\\n \\n \\n \\n \\n \\n \\n \\nNet income including noncontrolling interest\\n \\n$\\n5,363 \\n$\\n4,869 \\n$\\n5,058 \\nAdjustments to reconcile net income including noncontrolling interest to net cash\\nprovided by operating activities\\n \\n \\n \\n \\n \\n \\n \\nDepreciation and amortization\\n \\n \\n1,488 \\n \\n1,544 \\n \\n1,474 \\nCompany pension and postretirement contributions\\n \\n \\n(370) \\n \\n(967) \\n \\n(383) \\nCompany pension and postretirement expense\\n \\n \\n410 \\n \\n334 \\n \\n250 \\nStock-based compensation expense\\n \\n \\n302 \\n \\n324 \\n \\n298 \\nGain on sale of businesses\\n \\n \\n(545) \\n \\n(586) \\n \\n(111) \\nDeferred income taxes\\n \\n \\n(57) \\n \\n107 \\n \\n 7 \\nChanges in assets and liabilities\\n \\n \\n \\n \\n \\n \\n \\nAccounts receivable\\n \\n \\n(305) \\n \\n(245) \\n \\n(313) \\nInventories\\n \\n \\n(509) \\n \\n(387) \\n \\n57 \\nAccounts payable\\n \\n \\n408 \\n \\n24 \\n \\n148 \\nAccrued income taxes (current and long-term)\\n \\n \\n134 \\n \\n967 \\n \\n101 \\nOther net\\n \\n \\n120 \\n \\n256 \\n \\n76 \\nNet cash provided by (used in) operating activities\\n \\n \\n6,439 \\n \\n6,240 \\n \\n6,662 \\n \\n \\n \\n \\n \\n \\n \\n \\nCash Flows from Investing Activities\\n \\n \\n \\n \\n \\n \\n \\nPurchases of property, plant and equipment (PP&E)\\n \\n \\n(1,577) \\n \\n(1,373) \\n \\n(1,420) \\nProceeds from sale of PP&E and other assets\\n \\n \\n262 \\n \\n49 \\n \\n58 \\nAcquisitions, net of cash acquired\\n \\n \\n13 \\n \\n(2,023) \\n \\n(16) \\nPurchases of marketable securities and investments\\n \\n \\n(1,828) \\n \\n(2,152) \\n \\n(1,410) \\nProceeds from maturities and sale of marketable securities and investments\\n \\n \\n2,497 \\n \\n1,354 \\n \\n1,247 \\nProceeds from sale of businesses, net of cash sold\\n \\n \\n846 \\n \\n1,065 \\n \\n142 \\nOther net\\n \\n \\n 9 \\n \\n(6) \\n \\n(4) \\nNet cash provided by (used in) investing activities\\n \\n \\n222 \\n \\n(3,086) \\n \\n(1,403) \\n \\n \\n \\n \\n \\n \\n \\n \\nCash Flows from Financing Activities\\n \\n \\n \\n \\n \\n \\n \\nChange in short-term debt net\\n \\n \\n(284) \\n \\n578 \\n \\n(797) \\nRepayment of debt (maturities greater than 90 days)\\n \\n \\n(1,034) \\n \\n(962) \\n \\n(992) \\nProceeds from debt (maturities greater than 90 days)\\n \\n \\n2,251 \\n \\n1,987 \\n \\n2,832 \\nPurchases of treasury stock\\n \\n \\n(4,870) \\n \\n(2,068) \\n \\n(3,753) \\nProceeds from issuance of treasury stock pursuant to stock option and benefit plans\\n \\n \\n485 \\n \\n734 \\n \\n804 \\nDividends paid to shareholders\\n \\n \\n(3,193) \\n \\n(2,803) \\n \\n(2,678) \\nOther net\\n \\n \\n(56) \\n \\n(121) \\n \\n(42) \\nNet cash provided by (used in) financing activities\\n \\n \\n(6,701) \\n \\n(2,655) \\n \\n(4,626) \\n \\n \\n \\n \\n \\n \\n \\n \\nEffect of exchange rate changes on cash and cash equivalents\\n \\n \\n(160) \\n \\n156 \\n \\n(33) \\n \\n \\n \\n \\n \\n \\n \\n \\nNet increase (decrease) in cash and cash equivalents\\n \\n \\n(200) \\n \\n655 \\n \\n600 \\nCash and cash equivalents at beginning of year\\n \\n \\n3,053 \\n \\n2,398 \\n \\n1,798 \\nCash and cash equivalents at end of period\\n \\n$\\n2,853 \\n$\\n3,053 \\n$\\n2,398 \\n \\nThe accompanying Notes to Consolidated Financial Statements are an integral part of this statement.\\n \\n60\\n \\n'}]"
      ]
     },
     "execution_count": 102,
     "metadata": {},
     "output_type": "execute_result"
    }
   ],
   "source": [
    "evidence[0]"
   ]
  },
  {
   "cell_type": "markdown",
   "id": "47d67fe4",
   "metadata": {},
   "source": [
    "# Doc Info"
   ]
  },
  {
   "cell_type": "code",
   "execution_count": 98,
   "id": "d2e0416b",
   "metadata": {},
   "outputs": [
    {
     "data": {
      "text/plain": [
       "Index(['doc_name', 'company', 'gics_sector', 'doc_type', 'doc_period',\n",
       "       'doc_link'],\n",
       "      dtype='object')"
      ]
     },
     "execution_count": 98,
     "metadata": {},
     "output_type": "execute_result"
    }
   ],
   "source": [
    "info.keys()"
   ]
  },
  {
   "cell_type": "code",
   "execution_count": 112,
   "id": "ff112f57",
   "metadata": {},
   "outputs": [
    {
     "data": {
      "text/plain": [
       "361"
      ]
     },
     "execution_count": 112,
     "metadata": {},
     "output_type": "execute_result"
    }
   ],
   "source": [
    "len(info)"
   ]
  },
  {
   "cell_type": "markdown",
   "id": "401e22bb",
   "metadata": {},
   "source": [
    "## Doc Period"
   ]
  },
  {
   "cell_type": "code",
   "execution_count": 111,
   "id": "e6ce91b0",
   "metadata": {},
   "outputs": [
    {
     "data": {
      "text/plain": [
       "0      2015\n",
       "1      2016\n",
       "2      2017\n",
       "3      2018\n",
       "4      2019\n",
       "       ... \n",
       "356    2021\n",
       "357    2022\n",
       "358    2023\n",
       "359    2023\n",
       "360    2024\n",
       "Name: doc_period, Length: 361, dtype: int64"
      ]
     },
     "execution_count": 111,
     "metadata": {},
     "output_type": "execute_result"
    }
   ],
   "source": [
    "doc_period = info.get(\"doc_period\")\n",
    "set(doc_period)\n",
    "doc_period"
   ]
  },
  {
   "cell_type": "code",
   "execution_count": null,
   "id": "85752bc2",
   "metadata": {},
   "outputs": [],
   "source": []
  }
 ],
 "metadata": {
  "kernelspec": {
   "display_name": ".venv (3.13.7)",
   "language": "python",
   "name": "python3"
  },
  "language_info": {
   "codemirror_mode": {
    "name": "ipython",
    "version": 3
   },
   "file_extension": ".py",
   "mimetype": "text/x-python",
   "name": "python",
   "nbconvert_exporter": "python",
   "pygments_lexer": "ipython3",
   "version": "3.13.7"
  }
 },
 "nbformat": 4,
 "nbformat_minor": 5
}
